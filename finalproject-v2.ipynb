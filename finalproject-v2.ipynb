{
 "cells": [
  {
   "cell_type": "markdown",
   "id": "e6e4f60b-80ff-435f-a4c5-d8655119bccd",
   "metadata": {},
   "source": [
    "## Final Project: Restaurant Recommender System - Yelp Restaurant Recommendation\n",
    "##### Natalie Kim"
   ]
  },
  {
   "cell_type": "markdown",
   "id": "742613e1-9868-4ea5-9969-a339d21334d4",
   "metadata": {},
   "source": [
    "#### Libraries"
   ]
  },
  {
   "cell_type": "code",
   "execution_count": 1,
   "id": "b2da5af7-5a25-4db7-8e57-b8012167ba0a",
   "metadata": {},
   "outputs": [],
   "source": [
    "import pandas as pd\n",
    "import numpy as np\n",
    "import json\n",
    "from sklearn.model_selection import train_test_split\n",
    "from sklearn.metrics.pairwise import cosine_similarity"
   ]
  },
  {
   "cell_type": "markdown",
   "id": "a9009f2b-ac21-473d-b05d-551e45c1cda7",
   "metadata": {},
   "source": [
    "### Load Data"
   ]
  },
  {
   "cell_type": "markdown",
   "id": "1e3255e9-0482-4304-bdde-d9f7e0a3778e",
   "metadata": {},
   "source": [
    "##### Businesses data"
   ]
  },
  {
   "cell_type": "code",
   "execution_count": 2,
   "id": "74a882e4-130d-4f14-8d17-0dbf2da6dd57",
   "metadata": {},
   "outputs": [],
   "source": [
    "data_file = open(\"/Users/nataliekim/Downloads/yelp_dataset/yelp_academic_dataset_business.json\")\n",
    "data = []\n",
    "for line in data_file:   \n",
    "    data.append(json.loads(line))\n",
    "\n",
    "business_df = pd.DataFrame(data)\n",
    "data_file.close()"
   ]
  },
  {
   "cell_type": "markdown",
   "id": "6576dd02-6662-49af-83ba-f58f08f5892a",
   "metadata": {},
   "source": [
    "##### Reviews data"
   ]
  },
  {
   "cell_type": "code",
   "execution_count": 3,
   "id": "b7bb53bd-5794-4949-8362-63b250a13e3f",
   "metadata": {},
   "outputs": [],
   "source": [
    "data_file = open(\"/Users/nataliekim/Downloads/yelp_dataset/yelp_academic_dataset_review.json\")\n",
    "data = []\n",
    "for line in data_file:   \n",
    "    data.append(json.loads(line))\n",
    "\n",
    "reviews_df = pd.DataFrame(data)\n",
    "data_file.close()"
   ]
  },
  {
   "cell_type": "markdown",
   "id": "dbc39d9a-b17a-4532-98e7-5360bacfada0",
   "metadata": {},
   "source": [
    "### Data Preparation"
   ]
  },
  {
   "cell_type": "markdown",
   "id": "8a89f2e3-1893-411b-9ebc-5b1eeee71859",
   "metadata": {},
   "source": [
    "#### Subset for restaurants in Philadelphia"
   ]
  },
  {
   "cell_type": "code",
   "execution_count": 4,
   "id": "ebb1a6b8-4fd9-4653-8905-5acaf9771014",
   "metadata": {},
   "outputs": [],
   "source": [
    "# Businesses in Philadelphia\n",
    "philly = business_df[(business_df['city'] == 'Philadelphia')]"
   ]
  },
  {
   "cell_type": "code",
   "execution_count": 5,
   "id": "eade395a-adbf-46bd-96fd-0a3025b4021a",
   "metadata": {},
   "outputs": [],
   "source": [
    "# Philly Restaurants\n",
    "philly_rest = philly[philly['categories'].str.contains('Restaurant', na=False)]"
   ]
  },
  {
   "cell_type": "code",
   "execution_count": 6,
   "id": "3833e835-cdae-4190-95a4-c263b58fc936",
   "metadata": {},
   "outputs": [],
   "source": [
    "restaurants = philly_rest[['business_id','name','address', 'categories', 'attributes','stars']]"
   ]
  },
  {
   "cell_type": "code",
   "execution_count": null,
   "id": "41a2fba2-ec0d-460d-ac03-9b0999cdd4ad",
   "metadata": {},
   "outputs": [],
   "source": [
    "restaurants.info()"
   ]
  },
  {
   "cell_type": "code",
   "execution_count": null,
   "id": "08ce4f3a-bf01-4b2f-ba01-a876adc6f018",
   "metadata": {},
   "outputs": [],
   "source": [
    "restaurants.head(5)"
   ]
  },
  {
   "cell_type": "markdown",
   "id": "5ba6962e-5611-4888-9068-fef895c37508",
   "metadata": {},
   "source": [
    "#### Combine all data"
   ]
  },
  {
   "cell_type": "code",
   "execution_count": 13,
   "id": "0b0fa9b7-60dc-4a3a-8eee-1bfcbae6a9ec",
   "metadata": {},
   "outputs": [],
   "source": [
    "reviews_df2 = reviews_df[['user_id','business_id']]"
   ]
  },
  {
   "cell_type": "code",
   "execution_count": 8,
   "id": "aa9c5dd2-cbba-4daa-ac7d-ea7e17beb57a",
   "metadata": {},
   "outputs": [],
   "source": [
    "# add name of business to reviews df\n",
    "all_data = pd.merge(reviews_df2, restaurants, on='business_id')"
   ]
  },
  {
   "cell_type": "code",
   "execution_count": 9,
   "id": "279cd307-48df-40d2-ad3e-0056848283cf",
   "metadata": {},
   "outputs": [
    {
     "name": "stderr",
     "output_type": "stream",
     "text": [
      "/var/folders/v3/34g6014554j1kjqs_qv0qq5h0000gn/T/ipykernel_13978/1834643021.py:5: SettingWithCopyWarning: \n",
      "A value is trying to be set on a copy of a slice from a DataFrame.\n",
      "Try using .loc[row_indexer,col_indexer] = value instead\n",
      "\n",
      "See the caveats in the documentation: https://pandas.pydata.org/pandas-docs/stable/user_guide/indexing.html#returning-a-view-versus-a-copy\n",
      "  restaurants['stars'] = restaurants['stars'].map(star_round)\n"
     ]
    }
   ],
   "source": [
    "# Round stars column to integers rather than floats\n",
    "star_round = {1.0:1,1.5:2, 2.0:2, 2.5:3, 3.0:3, 3.5:4, 4.0:4, 4.5:5, 5.0:5}\n",
    "\n",
    "all_data['stars'] = all_data['stars'].map(star_round)\n",
    "restaurants['stars'] = restaurants['stars'].map(star_round)"
   ]
  },
  {
   "cell_type": "markdown",
   "id": "32b1be12-3d90-46d0-bf75-72485cae2892",
   "metadata": {},
   "source": [
    "#### Train/Test Split of Data"
   ]
  },
  {
   "cell_type": "code",
   "execution_count": 14,
   "id": "81bbf2c9-b0b8-4b31-9e58-61322fe44820",
   "metadata": {},
   "outputs": [],
   "source": [
    "train_data, test_data = train_test_split(all_data, test_size=0.1, random_state=42)"
   ]
  },
  {
   "cell_type": "markdown",
   "id": "7cbfa5d7-9910-43f8-b202-b0574eff84d3",
   "metadata": {},
   "source": [
    "#### User-Restaurant Matrix (using Reviews table)"
   ]
  },
  {
   "cell_type": "code",
   "execution_count": 15,
   "id": "aaff62dc-a7ef-4e9d-abb2-fd3bd3c34ebd",
   "metadata": {},
   "outputs": [],
   "source": [
    "# Create user-item matrix for training data\n",
    "train_user_rest = train_data.pivot_table(values='stars', index='user_id', columns='name', fill_value=0)\n",
    "\n",
    "# Create user-item matrix for test data\n",
    "test_user_rest = test_data.pivot_table(values='stars', index='user_id', columns='name', fill_value=0)"
   ]
  },
  {
   "cell_type": "markdown",
   "id": "2413849e-b64c-45a4-b3cc-e654f5028fb0",
   "metadata": {},
   "source": [
    "#### Dummy Matrices - Categories & Attributes"
   ]
  },
  {
   "cell_type": "code",
   "execution_count": 17,
   "id": "1d7c0623-b2f2-4a37-a848-c18bdb1dae20",
   "metadata": {},
   "outputs": [],
   "source": [
    "# Expand categories column\n",
    "categ_dummies = pd.Series(restaurants['categories']).str.get_dummies(',')\n",
    "#categ_dummies"
   ]
  },
  {
   "cell_type": "code",
   "execution_count": null,
   "id": "edc16d6e-3a9f-4624-aed9-93976a80890c",
   "metadata": {},
   "outputs": [],
   "source": [
    "# Function that extract keys from the nested dictionary\n",
    "def extract_keys(attr, key):\n",
    "    if attr == None:\n",
    "        return \"{}\"\n",
    "    if key in attr:\n",
    "        return attr.pop(key)\n",
    "\n",
    "# convert string to dictionary\n",
    "import ast\n",
    "def str_to_dict(attr):\n",
    "    if attr != None:\n",
    "        return ast.literal_eval(attr)\n",
    "    else:\n",
    "        return ast.literal_eval(\"{}\") "
   ]
  },
  {
   "cell_type": "code",
   "execution_count": null,
   "id": "947cea1e-e599-4ebc-b4f9-8ab777d992b6",
   "metadata": {},
   "outputs": [],
   "source": [
    "# get dummies from nested attributes\n",
    "restaurants['BusinessParking'] = restaurants.apply(lambda x: str_to_dict(extract_keys(x['attributes'], 'BusinessParking')), axis=1)\n",
    "restaurants['Ambience'] = restaurants.apply(lambda x: str_to_dict(extract_keys(x['attributes'], 'Ambience')), axis=1)\n",
    "restaurants['GoodForMeal'] = restaurants.apply(lambda x: str_to_dict(extract_keys(x['attributes'], 'GoodForMeal')), axis=1)\n",
    "restaurants['Dietary'] = restaurants.apply(lambda x: str_to_dict(extract_keys(x['attributes'], 'Dietary')), axis=1)\n",
    "restaurants['Music'] = restaurants.apply(lambda x: str_to_dict(extract_keys(x['attributes'], 'Music')), axis=1)"
   ]
  },
  {
   "cell_type": "code",
   "execution_count": null,
   "id": "513951dc-fd01-4a32-9024-243594a74726",
   "metadata": {},
   "outputs": [],
   "source": [
    "restaurants"
   ]
  },
  {
   "cell_type": "code",
   "execution_count": null,
   "id": "d7646ec0-1798-48f1-b14b-3d7e114f130c",
   "metadata": {},
   "outputs": [],
   "source": [
    "# attribute dummy table\n",
    "attr_dummies = pd.concat([restaurants['attributes'].apply(pd.Series), \n",
    "                          restaurants['BusinessParking'].apply(pd.Series),\n",
    "                          restaurants['Ambience'].apply(pd.Series), \n",
    "                          restaurants['GoodForMeal'].apply(pd.Series),\n",
    "                          restaurants['Dietary'].apply(pd.Series)], axis=1)\n",
    "attr_dummies = pd.get_dummies(attr_dummies)\n",
    "#attr_dummies"
   ]
  },
  {
   "cell_type": "code",
   "execution_count": null,
   "id": "f304683f-b92b-427c-a206-87fd1c5087b0",
   "metadata": {},
   "outputs": [],
   "source": [
    "# Finalize table\n",
    "df_final = pd.concat([attr_dummies,\n",
    "                      categ_dummies, \n",
    "                      restaurants[['name','stars']]], axis=1)\n",
    "df_final.drop('Restaurants',inplace=True,axis=1)\n",
    "#df_final.head()"
   ]
  },
  {
   "cell_type": "markdown",
   "id": "c9ffc23b-5a45-411d-99d0-e1065f7a28d7",
   "metadata": {},
   "source": [
    "#### Similarity Matrix"
   ]
  },
  {
   "cell_type": "code",
   "execution_count": null,
   "id": "dd8426a1-09fc-4ff5-be55-525ab222f86c",
   "metadata": {},
   "outputs": [],
   "source": [
    "df_finalv2 = df_final\n",
    "df_finalv2.head()"
   ]
  },
  {
   "cell_type": "code",
   "execution_count": null,
   "id": "54a19551-8cb8-49ae-92b2-d41817dfc9b9",
   "metadata": {},
   "outputs": [],
   "source": [
    "df_finalv2.drop('stars',inplace=True,axis=1)\n",
    "df_finalv2 = pd.DataFrame(df_finalv2)\n",
    "df_finalv2.set_index('name', inplace=True)"
   ]
  },
  {
   "cell_type": "code",
   "execution_count": null,
   "id": "3775635f-efee-4d5a-bd82-0b735dd6133b",
   "metadata": {},
   "outputs": [],
   "source": [
    "# Compute the cosine similarity matrix\n",
    "similarity_matrix = cosine_similarity(df_finalv2)\n",
    "\n",
    "# Convert the similarity matrix to a DataFrame for easier manipulation\n",
    "similarity_df = pd.DataFrame(similarity_matrix, index=df_finalv2.index, columns=df_finalv2.index)"
   ]
  },
  {
   "cell_type": "markdown",
   "id": "a4a324e1-eb4d-4809-ac31-0231fc36c686",
   "metadata": {},
   "source": [
    "### Collaborative-Filtering Model"
   ]
  },
  {
   "cell_type": "code",
   "execution_count": null,
   "id": "3ae75a06-d938-4637-aa74-e68374cc7c05",
   "metadata": {},
   "outputs": [],
   "source": [
    "# item-item similarity matrix\n",
    "item_similarity_matrix = cosine_similarity(train_user_rest.T)\n",
    "item_similarity_df = pd.DataFrame(item_similarity_matrix, index=train_user_rest.columns, columns=train_user_rest.columns)"
   ]
  },
  {
   "cell_type": "code",
   "execution_count": null,
   "id": "a2cdbd9d-6ad7-4c12-accc-0f429bdeb759",
   "metadata": {},
   "outputs": [],
   "source": [
    "# Step 3: Predict ratings\n",
    "def predict_ratings(user_rest_matrix, similarity_df):\n",
    "    predicted_ratings = np.dot(user_rest_matrix, similarity_df)\n",
    "    return pd.DataFrame(predicted_ratings, index=user_rest_matrix.index, columns=similarity_df.columns)\n",
    "\n",
    "train_predictions = predict_ratings(train_user_rest, item_similarity_df)"
   ]
  },
  {
   "cell_type": "code",
   "execution_count": null,
   "id": "08afb6ed-de67-4181-8591-0261f74db4dd",
   "metadata": {},
   "outputs": [],
   "source": [
    "# Step 4: Evaluate predictions\n",
    "def evaluate_predictions(test_matrix, predicted_matrix, top_n=5):\n",
    "    hits = 0\n",
    "    total = 0\n",
    "    \n",
    "    for user in test_matrix.index:\n",
    "        true_items = test_matrix.loc[user][test_matrix.loc[user] > 0].index\n",
    "        predicted_items = predicted_matrix.loc[user].sort_values(ascending=False).head(top_n).index\n",
    "        hits += len(set(predicted_items) & set(true_items))\n",
    "        total += len(true_items)\n",
    "    \n",
    "    precision = hits / (total * top_n)\n",
    "    recall = hits / total\n",
    "    \n",
    "    return precision, recall"
   ]
  },
  {
   "cell_type": "code",
   "execution_count": null,
   "id": "4b7d8994-5332-4d85-a41a-ad74b3dd5bf3",
   "metadata": {},
   "outputs": [],
   "source": [
    "# Evaluate on test set\n",
    "precision, recall = evaluate_predictions(test_user_rest, train_predictions, top_n=5)\n",
    "print(f\"Precision@5: {precision}\")\n",
    "print(f\"Recall@5: {recall}\")"
   ]
  },
  {
   "cell_type": "markdown",
   "id": "269ef269-a1dd-45f4-a9d0-9f348147af34",
   "metadata": {},
   "source": [
    "### Content Based Filtering"
   ]
  },
  {
   "cell_type": "code",
   "execution_count": null,
   "id": "c6a7a333-52eb-4dd7-9e0d-333fb113550a",
   "metadata": {},
   "outputs": [],
   "source": [
    "# function that returns recommendations based on cosine similarity\n",
    "def content_based_recommendations(restaurant, similarity_df):\n",
    "    # Dot product of user-item matrix and similarity matrix\n",
    "    predicted_ratings = np.dot(user_rest_matrix, similarity_df)\n",
    "    return pd.DataFrame(predicted_ratings, index=user_rest_matrix.index, columns=similarity_df.columns)"
   ]
  },
  {
   "cell_type": "code",
   "execution_count": null,
   "id": "30e6c02d-9809-4a79-8350-2956ebbda2a8",
   "metadata": {},
   "outputs": [],
   "source": [
    "train_predictions = content_based_recommendations(train_user_rest, similarity_df)"
   ]
  },
  {
   "cell_type": "markdown",
   "id": "85386a49-7ff3-4601-9e8c-b2c8b6ff5c20",
   "metadata": {},
   "source": [
    "#### Evaluating model"
   ]
  },
  {
   "cell_type": "code",
   "execution_count": null,
   "id": "7fbeb3d8-2d02-4df5-87ce-b99c76a2c066",
   "metadata": {},
   "outputs": [],
   "source": [
    "def evaluate_predictions(test_matrix, predicted_matrix, top_n=5):\n",
    "    hits = 0\n",
    "    total = 0\n",
    "    \n",
    "    for user in test_matrix.index:\n",
    "        # Get the items the user has interacted with in the test set\n",
    "        true_items = test_matrix.loc[user][test_matrix.loc[user] > 0].index\n",
    "        \n",
    "        # Get the top N predicted items for the user\n",
    "        predicted_items = predicted_matrix.loc[user].sort_values(ascending=False).head(top_n).index\n",
    "        \n",
    "        # Count hits\n",
    "        hits += len(set(predicted_items) & set(true_items))\n",
    "        total += len(true_items)\n",
    "    \n",
    "    precision = hits / (total * top_n)\n",
    "    recall = hits / total\n",
    "    \n",
    "    return precision, recall"
   ]
  },
  {
   "cell_type": "code",
   "execution_count": null,
   "id": "e87c6283-11d3-49f2-908e-50917d32778a",
   "metadata": {},
   "outputs": [],
   "source": [
    "# Evaluate on test set\n",
    "precision, recall = evaluate_predictions(test_user_rest, train_predictions, top_n=5)\n",
    "print(f\"Precision@5: {precision}\")\n",
    "print(f\"Recall@5: {recall}\")"
   ]
  }
 ],
 "metadata": {
  "kernelspec": {
   "display_name": "Python 3 (ipykernel)",
   "language": "python",
   "name": "python3"
  },
  "language_info": {
   "codemirror_mode": {
    "name": "ipython",
    "version": 3
   },
   "file_extension": ".py",
   "mimetype": "text/x-python",
   "name": "python",
   "nbconvert_exporter": "python",
   "pygments_lexer": "ipython3",
   "version": "3.11.7"
  }
 },
 "nbformat": 4,
 "nbformat_minor": 5
}
